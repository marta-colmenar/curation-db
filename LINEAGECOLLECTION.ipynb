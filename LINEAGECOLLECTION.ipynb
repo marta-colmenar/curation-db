{
 "cells": [
  {
   "cell_type": "code",
   "execution_count": 1,
   "metadata": {},
   "outputs": [],
   "source": [
    "import pymongo\n",
    "import pprint\n",
    "from pymongo import MongoClient\n",
    "import ete3\n",
    "from ete3 import NCBITaxa\n",
    "import pandas as pd\n",
    "ncbi = NCBITaxa()\n",
    "client = MongoClient()\n",
    "db = client.COCONUT2020\n",
    "collection = db.curatedNP"
   ]
  },
  {
   "cell_type": "code",
   "execution_count": 2,
   "metadata": {},
   "outputs": [],
   "source": [
    "data = collection.find({})\n",
    "tables = pd.DataFrame(list(data))"
   ]
  },
  {
   "cell_type": "code",
   "execution_count": 3,
   "metadata": {
    "collapsed": true
   },
   "outputs": [
    {
     "name": "stderr",
     "output_type": "stream",
     "text": [
      "c:\\users\\marta\\appdata\\local\\programs\\python\\python38-32\\lib\\site-packages\\ete3\\ncbi_taxonomy\\ncbiquery.py:243: UserWarning: taxid 86706 was translated into 2706154\n",
      "  warnings.warn(\"taxid %s was translated into %s\" %(taxid, merged_conversion[taxid]))\n",
      "c:\\users\\marta\\appdata\\local\\programs\\python\\python38-32\\lib\\site-packages\\ete3\\ncbi_taxonomy\\ncbiquery.py:243: UserWarning: taxid 46399 was translated into 228393\n",
      "  warnings.warn(\"taxid %s was translated into %s\" %(taxid, merged_conversion[taxid]))\n",
      "c:\\users\\marta\\appdata\\local\\programs\\python\\python38-32\\lib\\site-packages\\ete3\\ncbi_taxonomy\\ncbiquery.py:243: UserWarning: taxid 259302 was translated into 206448\n",
      "  warnings.warn(\"taxid %s was translated into %s\" %(taxid, merged_conversion[taxid]))\n",
      "c:\\users\\marta\\appdata\\local\\programs\\python\\python38-32\\lib\\site-packages\\ete3\\ncbi_taxonomy\\ncbiquery.py:243: UserWarning: taxid 285843 was translated into 2769829\n",
      "  warnings.warn(\"taxid %s was translated into %s\" %(taxid, merged_conversion[taxid]))\n",
      "c:\\users\\marta\\appdata\\local\\programs\\python\\python38-32\\lib\\site-packages\\ete3\\ncbi_taxonomy\\ncbiquery.py:243: UserWarning: taxid 326669 was translated into 2487000\n",
      "  warnings.warn(\"taxid %s was translated into %s\" %(taxid, merged_conversion[taxid]))\n",
      "c:\\users\\marta\\appdata\\local\\programs\\python\\python38-32\\lib\\site-packages\\ete3\\ncbi_taxonomy\\ncbiquery.py:243: UserWarning: taxid 537824 was translated into 280633\n",
      "  warnings.warn(\"taxid %s was translated into %s\" %(taxid, merged_conversion[taxid]))\n",
      "c:\\users\\marta\\appdata\\local\\programs\\python\\python38-32\\lib\\site-packages\\ete3\\ncbi_taxonomy\\ncbiquery.py:243: UserWarning: taxid 1898885 was translated into 2731602\n",
      "  warnings.warn(\"taxid %s was translated into %s\" %(taxid, merged_conversion[taxid]))\n",
      "c:\\users\\marta\\appdata\\local\\programs\\python\\python38-32\\lib\\site-packages\\ete3\\ncbi_taxonomy\\ncbiquery.py:243: UserWarning: taxid 28575 was translated into 1266744\n",
      "  warnings.warn(\"taxid %s was translated into %s\" %(taxid, merged_conversion[taxid]))\n",
      "c:\\users\\marta\\appdata\\local\\programs\\python\\python38-32\\lib\\site-packages\\ete3\\ncbi_taxonomy\\ncbiquery.py:243: UserWarning: taxid 196114 was translated into 2696576\n",
      "  warnings.warn(\"taxid %s was translated into %s\" %(taxid, merged_conversion[taxid]))\n",
      "c:\\users\\marta\\appdata\\local\\programs\\python\\python38-32\\lib\\site-packages\\ete3\\ncbi_taxonomy\\ncbiquery.py:243: UserWarning: taxid 248339 was translated into 1331087\n",
      "  warnings.warn(\"taxid %s was translated into %s\" %(taxid, merged_conversion[taxid]))\n",
      "c:\\users\\marta\\appdata\\local\\programs\\python\\python38-32\\lib\\site-packages\\ete3\\ncbi_taxonomy\\ncbiquery.py:243: UserWarning: taxid 139766 was translated into 2607118\n",
      "  warnings.warn(\"taxid %s was translated into %s\" %(taxid, merged_conversion[taxid]))\n",
      "c:\\users\\marta\\appdata\\local\\programs\\python\\python38-32\\lib\\site-packages\\ete3\\ncbi_taxonomy\\ncbiquery.py:243: UserWarning: taxid 362816 was translated into 248342\n",
      "  warnings.warn(\"taxid %s was translated into %s\" %(taxid, merged_conversion[taxid]))\n",
      "c:\\users\\marta\\appdata\\local\\programs\\python\\python38-32\\lib\\site-packages\\ete3\\ncbi_taxonomy\\ncbiquery.py:243: UserWarning: taxid 155871 was translated into 1934393\n",
      "  warnings.warn(\"taxid %s was translated into %s\" %(taxid, merged_conversion[taxid]))\n",
      "c:\\users\\marta\\appdata\\local\\programs\\python\\python38-32\\lib\\site-packages\\ete3\\ncbi_taxonomy\\ncbiquery.py:243: UserWarning: taxid 285844 was translated into 2769830\n",
      "  warnings.warn(\"taxid %s was translated into %s\" %(taxid, merged_conversion[taxid]))\n",
      "c:\\users\\marta\\appdata\\local\\programs\\python\\python38-32\\lib\\site-packages\\ete3\\ncbi_taxonomy\\ncbiquery.py:243: UserWarning: taxid 1764327 was translated into 2761213\n",
      "  warnings.warn(\"taxid %s was translated into %s\" %(taxid, merged_conversion[taxid]))\n",
      "c:\\users\\marta\\appdata\\local\\programs\\python\\python38-32\\lib\\site-packages\\ete3\\ncbi_taxonomy\\ncbiquery.py:243: UserWarning: taxid 993650 was translated into 137887\n",
      "  warnings.warn(\"taxid %s was translated into %s\" %(taxid, merged_conversion[taxid]))\n",
      "c:\\users\\marta\\appdata\\local\\programs\\python\\python38-32\\lib\\site-packages\\ete3\\ncbi_taxonomy\\ncbiquery.py:243: UserWarning: taxid 1000424 was translated into 52477\n",
      "  warnings.warn(\"taxid %s was translated into %s\" %(taxid, merged_conversion[taxid]))\n",
      "c:\\users\\marta\\appdata\\local\\programs\\python\\python38-32\\lib\\site-packages\\ete3\\ncbi_taxonomy\\ncbiquery.py:243: UserWarning: taxid 333310 was translated into 3621\n",
      "  warnings.warn(\"taxid %s was translated into %s\" %(taxid, merged_conversion[taxid]))\n",
      "c:\\users\\marta\\appdata\\local\\programs\\python\\python38-32\\lib\\site-packages\\ete3\\ncbi_taxonomy\\ncbiquery.py:243: UserWarning: taxid 134915 was translated into 1898706\n",
      "  warnings.warn(\"taxid %s was translated into %s\" %(taxid, merged_conversion[taxid]))\n",
      "c:\\users\\marta\\appdata\\local\\programs\\python\\python38-32\\lib\\site-packages\\ete3\\ncbi_taxonomy\\ncbiquery.py:243: UserWarning: taxid 857495 was translated into 509004\n",
      "  warnings.warn(\"taxid %s was translated into %s\" %(taxid, merged_conversion[taxid]))\n",
      "c:\\users\\marta\\appdata\\local\\programs\\python\\python38-32\\lib\\site-packages\\ete3\\ncbi_taxonomy\\ncbiquery.py:243: UserWarning: taxid 291364 was translated into 2231603\n",
      "  warnings.warn(\"taxid %s was translated into %s\" %(taxid, merged_conversion[taxid]))\n",
      "c:\\users\\marta\\appdata\\local\\programs\\python\\python38-32\\lib\\site-packages\\ete3\\ncbi_taxonomy\\ncbiquery.py:243: UserWarning: taxid 74465 was translated into 2771340\n",
      "  warnings.warn(\"taxid %s was translated into %s\" %(taxid, merged_conversion[taxid]))\n",
      "c:\\users\\marta\\appdata\\local\\programs\\python\\python38-32\\lib\\site-packages\\ete3\\ncbi_taxonomy\\ncbiquery.py:243: UserWarning: taxid 253747 was translated into 126675\n",
      "  warnings.warn(\"taxid %s was translated into %s\" %(taxid, merged_conversion[taxid]))\n",
      "c:\\users\\marta\\appdata\\local\\programs\\python\\python38-32\\lib\\site-packages\\ete3\\ncbi_taxonomy\\ncbiquery.py:243: UserWarning: taxid 1844648 was translated into 2592283\n",
      "  warnings.warn(\"taxid %s was translated into %s\" %(taxid, merged_conversion[taxid]))\n",
      "c:\\users\\marta\\appdata\\local\\programs\\python\\python38-32\\lib\\site-packages\\ete3\\ncbi_taxonomy\\ncbiquery.py:243: UserWarning: taxid 45996 was translated into 264951\n",
      "  warnings.warn(\"taxid %s was translated into %s\" %(taxid, merged_conversion[taxid]))\n"
     ]
    }
   ],
   "source": [
    "# Obtain a diccionary with the coconut_id as key and the ranks of interest as value\n",
    "dicc = {}\n",
    "for i in range(0, len(tables)):\n",
    "    row = tables.loc[i,'tax_classification']\n",
    "    ID = tables.loc[i, '_id']\n",
    "    dicc_lineage = {}\n",
    "    n = 0\n",
    "    while n < len(row):\n",
    "        for elem in row:\n",
    "            value = list(elem.values())\n",
    "            value1 = value[0]\n",
    "            for j in value1:\n",
    "                x = j['taxid']\n",
    "                lineage = ncbi.get_lineage(x)\n",
    "                add = []\n",
    "                for i in lineage:\n",
    "                    rank = ncbi.get_rank([i])\n",
    "                    values = list(rank.values())\n",
    "                    if 'superkingdom' in values:\n",
    "                        add.append(i)\n",
    "                    if 'kingdom' in values:\n",
    "                        add.append(i)\n",
    "                    if 'phylum' in values:\n",
    "                        add.append(i)\n",
    "                    if 'class' in values:\n",
    "                        add.append(i)\n",
    "                    if 'order' in values:\n",
    "                        add.append(i)\n",
    "                    if 'family' in values:\n",
    "                        add.append(i)\n",
    "                    if 'genus' in values:\n",
    "                        add.append(i)\n",
    "                    if 'species' in values:\n",
    "                        add.append(i)\n",
    "                dicc_lineage[n] = add\n",
    "            n += 1\n",
    "    dicc[ID] = dicc_lineage"
   ]
  },
  {
   "cell_type": "code",
   "execution_count": null,
   "metadata": {},
   "outputs": [],
   "source": [
    "# Completing the db\n",
    "column_names = ['superkingdom', 'kingdom', 'phylum', 'class', 'order', 'family', 'genus', 'species']\n",
    "dicc_lin = {}\n",
    "for key in dicc:\n",
    "    list_data = {}\n",
    "    list_data['lineage'] = []\n",
    "    lineages = dicc[key]\n",
    "    for k in lineages:\n",
    "        x = lineages[k]\n",
    "        n = 0\n",
    "        data = {}\n",
    "        while n < len(x):\n",
    "            data[column_names[n]] = x[n]\n",
    "            n += 1\n",
    "        list_data['lineage'].append(data)\n",
    "    dicc_lin[key] = list_data\n",
    "\n",
    "for key in dicc_lin:\n",
    "    x = dicc_lin[key]\n",
    "    collection.update_one({'_id': key}, {'$set': x})"
   ]
  }
 ],
 "metadata": {
  "kernelspec": {
   "display_name": "Python 3",
   "language": "python",
   "name": "python3"
  },
  "language_info": {
   "codemirror_mode": {
    "name": "ipython",
    "version": 3
   },
   "file_extension": ".py",
   "mimetype": "text/x-python",
   "name": "python",
   "nbconvert_exporter": "python",
   "pygments_lexer": "ipython3",
   "version": "3.8.5"
  }
 },
 "nbformat": 4,
 "nbformat_minor": 4
}
